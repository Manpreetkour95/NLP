{
  "nbformat": 4,
  "nbformat_minor": 0,
  "metadata": {
    "colab": {
      "provenance": [],
      "authorship_tag": "ABX9TyM8AM7Upo0N5YyZvxgtW1QF",
      "include_colab_link": true
    },
    "kernelspec": {
      "name": "python3",
      "display_name": "Python 3"
    },
    "language_info": {
      "name": "python"
    }
  },
  "cells": [
    {
      "cell_type": "markdown",
      "metadata": {
        "id": "view-in-github",
        "colab_type": "text"
      },
      "source": [
        "<a href=\"https://colab.research.google.com/github/Manpreetkour95/NLP/blob/main/LABEL_NAME_CHANGE.ipynb\" target=\"_parent\"><img src=\"https://colab.research.google.com/assets/colab-badge.svg\" alt=\"Open In Colab\"/></a>"
      ]
    },
    {
      "cell_type": "code",
      "execution_count": null,
      "metadata": {
        "id": "cbMVHtJ08NTY"
      },
      "outputs": [],
      "source": [
        "import os\n",
        "\n",
        "# Define the folder containing the text files\n",
        "\n",
        "folder_path = r\"C:\\Users\\vikra\\Downloads\\labels_my-project-name_2023-09-30-08-33-28\"\n",
        "\n",
        "# Define a mapping for replacements\n",
        "replacement_mapping ={'0': '6', '1': '3', '2': '0', '3': '7', '4': '4', '5': '8', '6': '9', '7': '5', '8': '2', '9': '1'}\n",
        "\n",
        "\n",
        "# Iterate over files in the folder\n",
        "for filename in os.listdir(folder_path):\n",
        "    if filename.endswith(\".txt\"):  # Assuming your text files have a .txt extension\n",
        "        file_path = os.path.join(folder_path, filename)\n",
        "        print(filename)\n",
        "        # Read the content of the file\n",
        "        with open(file_path, \"r\") as file:\n",
        "            lines = file.readlines()\n",
        "\n",
        "        # Process and update the content\n",
        "        updated_lines = []\n",
        "        with open(file_path, \"r\") as file:\n",
        "            lines = file.readlines()\n",
        "\n",
        "            # Process and update the content\n",
        "            updated_lines = []\n",
        "            for line in lines:\n",
        "                print(line)\n",
        "                print(line[0])\n",
        "                print(line[1::])\n",
        "                updated_lines.append(replacement_mapping[line[0]]+line[1::])\n",
        "\n",
        "\n",
        "        # Write the updated content back to the file\n",
        "        with open(file_path, \"w\") as file:\n",
        "            file.write(\"\\n\".join(updated_lines))\n"
      ]
    }
  ]
}